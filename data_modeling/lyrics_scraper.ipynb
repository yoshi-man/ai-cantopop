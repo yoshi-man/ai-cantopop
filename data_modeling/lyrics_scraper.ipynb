{
 "cells": [
  {
   "cell_type": "code",
   "execution_count": 1,
   "id": "1b7c55fd",
   "metadata": {},
   "outputs": [],
   "source": [
    "from bs4 import BeautifulSoup\n",
    "import pandas as pd\n",
    "import os\n",
    "import requests\n",
    "import random\n",
    "import google\n",
    "from googlesearch import search\n",
    "import re"
   ]
  },
  {
   "cell_type": "markdown",
   "id": "913713ba",
   "metadata": {},
   "source": [
    "# Get List of Songs"
   ]
  },
  {
   "cell_type": "code",
   "execution_count": 2,
   "id": "428004bf",
   "metadata": {},
   "outputs": [],
   "source": [
    "TOKEN = 'BQCxZosrh8zeonGgkOh-Vksizvd8J8PzWXo22r3ahqyu6VmEzJssCgQVV5E0B0j5TO8nSzrxbg_Kt8yPZpBalBG-G35w6G0EdVQZaR_tAstsrUfJu9caK1CEP2VdxZ-pPQsQnTzwRORbTTOdh4e1kew6smFfcQ'"
   ]
  },
  {
   "cell_type": "code",
   "execution_count": 3,
   "id": "ab7a0c8d",
   "metadata": {},
   "outputs": [],
   "source": [
    "# base URL of all Spotify API endpoints\n",
    "headers = {\n",
    "    'Authorization': 'Bearer {token}'.format(token=TOKEN)\n",
    "}\n",
    "\n",
    "BASE_URL = 'https://api.spotify.com/v1/playlists/{}/tracks?offset={}'\n",
    "\n",
    "# PLAYLIST_URL = ['https://open.spotify.com/playlist/38uFgdleiwHcs0tVmTwkdM?si=973358985c54467b', 'https://open.spotify.com/playlist/5Wlpb171qbV5BQ3KSeSku1?si=406b18056b3345fd']\n",
    "# PLAYLIST_URI = list(map(lambda x:x.split('/')[4].split('?')[0],PLAYLIST_URL))\n",
    "\n",
    "# final_result = []\n",
    "\n",
    "# for URI in PLAYLIST_URI:\n",
    "#     for offset in range(0, 1500, 100):\n",
    "#         try:\n",
    "#             r = requests.get(BASE_URL.format(URI, offset), headers=headers)\n",
    "#             results = r.json()['items']\n",
    "#             final_result += (list(map(lambda x : {\"name\": x['track']['name'].split('-')[0].split('(')[0], \"artist\": x['track']['artists'][0]['name']} , results)))\n",
    "#             print('Results now have {} songs.'.format(len(final_result)))\n",
    "#         except Exception as e:\n",
    "#             print(f'Error: {e}')\n",
    "\n"
   ]
  },
  {
   "cell_type": "code",
   "execution_count": 5,
   "id": "d81c0673",
   "metadata": {},
   "outputs": [],
   "source": [
    "# print(f'We now have a list of {len(final_result)} songs.')"
   ]
  },
  {
   "cell_type": "code",
   "execution_count": 14,
   "id": "d02a3c85",
   "metadata": {},
   "outputs": [],
   "source": [
    "# base URL of all Spotify API endpoints\n",
    "def getSongList(token, playlist_url):\n",
    "    headers = {\n",
    "        'Authorization': 'Bearer {}'.format(token)\n",
    "    }\n",
    "\n",
    "    BASE_URL = 'https://api.spotify.com/v1/playlists/{}/tracks?offset={}'\n",
    "    \n",
    "    PLAYLIST_URI = playlist_url.split('/')[4].split('?')[0]\n",
    "\n",
    "    final_result = []\n",
    "    \n",
    "    totalSongs = int(requests.get(BASE_URL.format(PLAYLIST_URI, '0'), headers=headers).json()['total'])\n",
    "\n",
    "    for offset in range(0, (totalSongs//100+1) * 100, 100):\n",
    "        try:\n",
    "            r = requests.get(BASE_URL.format(PLAYLIST_URI, offset), headers=headers)\n",
    "            results = r.json()['items']\n",
    "            final_result += (list(map(lambda x : {\"name\": x['track']['name'].split('-')[0].split('(')[0], \"artist\": x['track']['artists'][0]['name']} , results)))\n",
    "            \n",
    "        except Exception as e:\n",
    "            print(f'Error: {e}')\n",
    "    \n",
    "    print('{} songs were added from {}.'.format(len(final_result), playlist_url))\n",
    "    return final_result"
   ]
  },
  {
   "cell_type": "markdown",
   "id": "ce82390f",
   "metadata": {},
   "source": [
    "# Search Google for Link (Might Get Banned)\n"
   ]
  },
  {
   "cell_type": "code",
   "execution_count": 15,
   "id": "2990c2f8",
   "metadata": {},
   "outputs": [],
   "source": [
    "# def getSongLink(song):\n",
    "#     query = '{} by {} lyrics'.format(song['name'], song['artist'])\n",
    "#     search_results = []\n",
    "#     for j in search(query, tld=\"co.in\", num=10, stop=10, pause=2):\n",
    "#         if 'kkbox' in j:\n",
    "#             return j\n",
    "#     for j in search(query, tld=\"co.in\", num=10, stop=10, pause=2):\n",
    "#         if 'mojim' in j:\n",
    "#             return j\n",
    "    \n",
    "#     return None\n",
    "    "
   ]
  },
  {
   "cell_type": "code",
   "execution_count": 16,
   "id": "2820f1bd",
   "metadata": {},
   "outputs": [],
   "source": [
    "# random_song = final_result[random.randint(0,len(final_result))]\n",
    "# query = '{} by {} lyrics'.format(random_song['name'], random_song['artist'])\n",
    "# print(query)\n",
    "# print(getSongLink(random_song))"
   ]
  },
  {
   "cell_type": "markdown",
   "id": "a4bcf95e",
   "metadata": {},
   "source": [
    "# Scrape KKBox for Link (free)"
   ]
  },
  {
   "cell_type": "code",
   "execution_count": 17,
   "id": "96c873d6",
   "metadata": {},
   "outputs": [],
   "source": [
    "def getSongLinkFromKkbox(song):\n",
    "    url = 'https://www.kkbox.com/hk/en/search.php?word={}'.format(song['name'])\n",
    "    try:\n",
    "        r = requests.get(url)\n",
    "        pageContent = r.content \n",
    "    except Exception as e:\n",
    "        print('Error requesting top results link {}'.format(e))\n",
    "\n",
    "    soup = BeautifulSoup(r.content, 'html5lib')   \n",
    "    try:\n",
    "        link = 'https://www.kkbox.com/' + str(soup.find('a', attrs = {'class':'song-title'})).split('href=')[1].split('\"')[1]\n",
    "        return link\n",
    "    except Exception as e:\n",
    "        print('{} has no link, passing.'.format(song['name']))\n",
    "        return None\n",
    "    \n",
    "# random_song = final_result[random.randint(0,len(final_result))]\n",
    "# query = '{} by {} lyrics'.format(random_song['name'], random_song['artist'])\n",
    "# print(query)\n",
    "# print(getSongLinkFromKkbox(random_song))"
   ]
  },
  {
   "cell_type": "markdown",
   "id": "1fbcf736",
   "metadata": {},
   "source": [
    "# Scrape Lyrics Out of Web"
   ]
  },
  {
   "cell_type": "code",
   "execution_count": 18,
   "id": "774261a8",
   "metadata": {},
   "outputs": [],
   "source": [
    "def rowFilter(row):\n",
    "    if '演唱' in row:\n",
    "        return False\n",
    "    if '作詞' in row:\n",
    "        return False\n",
    "    if '作曲' in row:\n",
    "        return False\n",
    "    if 'Lyricist' in row:\n",
    "        return False\n",
    "    if 'Composer'  in row:\n",
    "        return False\n",
    "    if '間奏' in row:\n",
    "        return False\n",
    "    if '編' in row:\n",
    "        return False\n",
    "    if '監' in row:\n",
    "        return False\n",
    "    if '曲' in row:\n",
    "        return False\n",
    "    \n",
    "    return True\n",
    "\n",
    "def replaceKeywords(lyrics):\n",
    "    wordsToReplace = {\" \" : \"\", \n",
    "                      \"</>\" : \"\", \n",
    "                      \"<br/>\" : \"\\n\",\n",
    "                      \"<p>\": \"\",\n",
    "                      \"</p>\": \"\",\n",
    "                      '<divclass=\"lyrics\">': \"\",\n",
    "                      '</div>' : \"\",\n",
    "                      '(女)': '',\n",
    "                      '(男)': '',\n",
    "                      '(合)': '',\n",
    "                      '#': \"\",\n",
    "                      '＃': '',\n",
    "                      '(': '',\n",
    "                      ')': '',\n",
    "                      ',':'\\t',\n",
    "                      '’': '',\n",
    "                      '!': '',\n",
    "                      '…': '',\n",
    "                      '＊': '',\n",
    "                      '*': '',\n",
    "                      \"（\": '',\n",
    "                      \"'\":\"\",\n",
    "                      '...':'',\n",
    "                      '☆':'',\n",
    "                      '詞：':'',\n",
    "                      ':': '',\n",
    "                      '/':''\n",
    "                     }\n",
    "    result = lyrics\n",
    "    for word in wordsToReplace.keys():\n",
    "        result = result.replace(word, wordsToReplace[word])\n",
    "    \n",
    "    return result\n",
    "    \n",
    "    \n",
    "def scrapeKkboxLink(link):\n",
    "    try:\n",
    "        r = requests.get(link)\n",
    "        pageContent = r.content\n",
    "    except Exception as e:\n",
    "        print('Error requesting link during scraping {}'.format(e))\n",
    "        \n",
    "    soup = BeautifulSoup(r.content, 'html5lib')   \n",
    "    lyrics = replaceKeywords(str(soup.find('div', attrs = {'class':'lyrics'})))\n",
    "    lyrics = lyrics.split('\\n')\n",
    "    lyrics = [row for row in lyrics if rowFilter(row)]\n",
    "    lyrics = '\\n'.join(lyrics)\n",
    "    lyrics = re.sub(r'[a-zA-z]', '', lyrics).replace('+','')\n",
    "\n",
    "    return lyrics\n",
    "\n",
    "def scrapeMojimLink(link):\n",
    "    try:\n",
    "        r = requests.get(link)\n",
    "        pageContent = r.content\n",
    "    except Exception as e:\n",
    "        print('Error requesting link during scraping {}'.format(e))\n",
    "        \n",
    "    soup = BeautifulSoup(r.content, 'html5lib')   \n",
    "    lyrics = str(soup.find('dd', attrs = {'class':'fsZx3'})).replace(\"<br/>\", \"\\n\").replace('<dd class=\"fsZx3\" id=\"fsZx3\">','').replace('</dd>','').replace('更多更詳盡歌詞 在 <a href=\"http://mojim.com\">※ Mojim.com　魔鏡歌詞網 </a>','')\n",
    "    lyrics = lyrics.split('\\n')\n",
    "    lyrics = [row for row in lyrics if '<ol>' not in row]\n",
    "    lyrics = '\\n'.join(lyrics)\n",
    "    return lyrics\n",
    "\n",
    "def getLyrics(link):\n",
    "    if link == None:\n",
    "        return None\n",
    "    if 'kkbox' in link:\n",
    "        results = scrapeKkboxLink(link)\n",
    "        if len(results.replace('\\n','')) < 100:\n",
    "            return None\n",
    "        \n",
    "        return results\n",
    "    if 'mojim' in link:\n",
    "        return scrapeMojimLink(link)\n",
    "    \n",
    "    return None"
   ]
  },
  {
   "cell_type": "code",
   "execution_count": 19,
   "id": "07a4839d",
   "metadata": {},
   "outputs": [],
   "source": [
    "# print(getLyrics(getSongLinkFromKkbox(random_song)))"
   ]
  },
  {
   "cell_type": "markdown",
   "id": "9b3a9300",
   "metadata": {},
   "source": [
    "# Summarising what the flow is:\n",
    "\n",
    "- 1) Get all songs from spotify playlist\n",
    "- 2) For each song,\n",
    "    - a) Search KKBox for top results\n",
    "   -  b) Return top result link for lyrics\n",
    "   - c) Go to that link and scrape the lyrics\n",
    "    - d) Flow lyrics through and save it for the song"
   ]
  },
  {
   "cell_type": "code",
   "execution_count": 20,
   "id": "9fb807fc",
   "metadata": {},
   "outputs": [],
   "source": [
    "# Create an sqlite3 to store all the scraped lyrics\n",
    "import sqlite3\n",
    "import time\n",
    "\n",
    "con = sqlite3.connect('ai_love_song.db')\n",
    "cur = con.cursor()\n",
    "sql_statements = []"
   ]
  },
  {
   "cell_type": "code",
   "execution_count": 21,
   "id": "6ff0f15b",
   "metadata": {},
   "outputs": [],
   "source": [
    "def createDB():\n",
    "    cur.execute('''CREATE TABLE IF NOT EXISTS lyrics (run_id text, name text, artist text, lyrics text)''')\n",
    "    con.commit()\n",
    "\n",
    "def addStatement(sql):\n",
    "    global sql_statements\n",
    "    if len(sql_statements) > 50:\n",
    "        return pushTransaction()\n",
    "    \n",
    "    sql_statements.append(sql)\n",
    "\n",
    "def pushTransaction():\n",
    "    global sql_statements\n",
    "    rows_added = 0\n",
    "    rows_error = 0\n",
    "    cur.execute('BEGIN TRANSACTION')\n",
    "    for statement in sql_statements:\n",
    "        try:\n",
    "            cur.execute(statement)\n",
    "            rows_added += 1\n",
    "        except Exception as e:\n",
    "            print('Row cannot be added because: ', e)\n",
    "            rows_error += 1\n",
    "            pass\n",
    "    sql_statements = []\n",
    "    con.commit()\n",
    "    print(\"Transaction Completed: {} rows added ; {} rows error\".format(rows_added, rows_error))\n",
    "    \n",
    "def insertSong(runId, song):\n",
    "    songUrl = getSongLinkFromKkbox(song)\n",
    "    lyrics = getLyrics(songUrl)\n",
    "    if lyrics == None:\n",
    "        return False\n",
    "    sql = '''INSERT INTO lyrics VALUES(\"{}\", \"{}\", \"{}\", \"{}\") '''.format(runId, song['name'], song['artist'], lyrics)\n",
    "    addStatement(sql)\n",
    "    return True\n",
    "\n",
    "def deleteRun(runId):\n",
    "    sql = '''DELETE FROM lyrics WHERE run_id={}'''.format(runId)\n",
    "    cur.execute(sql)\n",
    "    con.commit()"
   ]
  },
  {
   "cell_type": "code",
   "execution_count": 22,
   "id": "89f9c04c",
   "metadata": {},
   "outputs": [
    {
     "name": "stdout",
     "output_type": "stream",
     "text": [
      "1085 songs were added from https://open.spotify.com/playlist/38uFgdleiwHcs0tVmTwkdM?si=035f80a093fb41a6.\n"
     ]
    }
   ],
   "source": [
    "apiToken= 'BQAqO8O4XzJNR3WN8Riiy4ufJPt4CkINoLuJducu81QRs-U3pOyDG0F7026KlZqIhSmZLgev76FcXRDEIg0xl048oB_5SggG06M-HfziRyTfGH3yRkZo9c8kRlP7sfJee9SsG1qBgIvbFgZvU0OzhZo8Lcln1g'\n",
    "test = getSongList(apiToken, 'https://open.spotify.com/playlist/38uFgdleiwHcs0tVmTwkdM?si=035f80a093fb41a6')"
   ]
  },
  {
   "cell_type": "code",
   "execution_count": 23,
   "id": "63e54041",
   "metadata": {},
   "outputs": [
    {
     "name": "stdout",
     "output_type": "stream",
     "text": [
      "463 songs were added from https://open.spotify.com/playlist/4cd77a6cpcSyJJADQm3CaD?si=7fd714df40584946.\n",
      "773 songs were added from https://open.spotify.com/playlist/0xIfZKAKffK7Xw8kHl0uO1?si=690bbb31d288463a.\n",
      "1333 songs were added from https://open.spotify.com/playlist/4YGjtvMmG7ePQr2SZt8U3I?si=9a64aa9320a248f7.\n",
      "Song list now contains 2569 songs\n"
     ]
    }
   ],
   "source": [
    "# Create the databse first if not exist\n",
    "createDB()\n",
    "\n",
    "playlists = [\n",
    "    'https://open.spotify.com/playlist/4cd77a6cpcSyJJADQm3CaD?si=7fd714df40584946',\n",
    "    'https://open.spotify.com/playlist/0xIfZKAKffK7Xw8kHl0uO1?si=690bbb31d288463a',\n",
    "    'https://open.spotify.com/playlist/4YGjtvMmG7ePQr2SZt8U3I?si=9a64aa9320a248f7'\n",
    "]\n",
    "\n",
    "\n",
    "song_list = []\n",
    "for playlist in playlists:\n",
    "    song_list += getSongList(apiToken, playlist)\n",
    "\n",
    "print('Song list now contains {} songs'.format(len(song_list)))"
   ]
  },
  {
   "cell_type": "code",
   "execution_count": 17,
   "id": "09e20f6c",
   "metadata": {},
   "outputs": [],
   "source": [
    "# deleteRun('1')"
   ]
  },
  {
   "cell_type": "code",
   "execution_count": 28,
   "id": "073a7b5b",
   "metadata": {},
   "outputs": [
    {
     "name": "stdout",
     "output_type": "stream",
     "text": [
      "Transaction Completed: 51 rows added ; 0 rows error........\n",
      "Transaction Completed: 51 rows added ; 0 rows error...........\n",
      "Transaction Completed: 51 rows added ; 0 rows error...............\n",
      "Transaction Completed: 51 rows added ; 0 rows error.............\n",
      "Transaction Completed: 51 rows added ; 0 rows error......ng.....................\n",
      "Row cannot be added because:  near \"我愛你\": syntax error......\n",
      "Row cannot be added because:  near \"真愛總會是永遠\": syntax error\n",
      "Transaction Completed: 49 rows added ; 2 rows error\n",
      "Transaction Completed: 51 rows added ; 0 rows error...........\n",
      "Transaction Completed: 51 rows added ; 0 rows error..............\n",
      "Transaction Completed: 51 rows added ; 0 rows error.............\n",
      "Transaction Completed: 51 rows added ; 0 rows error....................\n",
      "Transaction Completed: 51 rows added ; 0 rows error.............\n",
      " has no link, passing.uis Koo..............................\n",
      "Transaction Completed: 51 rows added ; 0 rows error.......\n",
      "Transaction Completed: 51 rows added ; 0 rows error...................\n",
      "Transaction Completed: 51 rows added ; 0 rows error..............\n",
      "Transaction Completed: 51 rows added ; 0 rows error................\n",
      "Transaction Completed: 51 rows added ; 0 rows error..................\n",
      "Transaction Completed: 51 rows added ; 0 rows error...................\n",
      "Transaction Completed: 51 rows added ; 0 rows error...............\n",
      "Transaction Completed: 51 rows added ; 0 rows error............\n",
      "Row cannot be added because:  near \"我愛你\": syntax error..................\n",
      "Transaction Completed: 50 rows added ; 1 rows error\n",
      "Transaction Completed: 51 rows added ; 0 rows error..................\n",
      "Transaction Completed: 51 rows added ; 0 rows error......................\n",
      "Transaction Completed: 51 rows added ; 0 rows error.......................\n",
      "Transaction Completed: 51 rows added ; 0 rows error.....................\n",
      "Transaction Completed: 51 rows added ; 0 rows error.............\n",
      "Transaction Completed: 51 rows added ; 0 rows error...........\n",
      "Transaction Completed: 51 rows added ; 0 rows error.................\n",
      "Transaction Completed: 51 rows added ; 0 rows error....................\n",
      "Transaction Completed: 51 rows added ; 0 rows error.........................\n",
      "Transaction Completed: 51 rows added ; 0 rows error...............\n",
      " has no link, passing.manda Lee............................\n",
      "Transaction Completed: 51 rows added ; 0 rows error..................\n",
      "Transaction Completed: 51 rows added ; 0 rows error.................\n",
      "Transaction Completed: 51 rows added ; 0 rows error............\n",
      "Transaction Completed: 51 rows added ; 0 rows error.............\n",
      "Transaction Completed: 51 rows added ; 0 rows error...................\n",
      "Row cannot be added because:  near \"常見面\": syntax error..............\n",
      "Transaction Completed: 50 rows added ; 1 rows error\n",
      "Transaction Completed: 51 rows added ; 0 rows error.......................\n",
      "Transaction Completed: 51 rows added ; 0 rows error.............\n",
      "Transaction Completed: 51 rows added ; 0 rows error................\n",
      "Row cannot be added because:  near \"蠢女人\": syntax error...........\n",
      "Row cannot be added because:  near \"不需在會\": syntax error\n",
      "Transaction Completed: 49 rows added ; 2 rows error\n",
      "Row cannot be added because:  near \"預備\": syntax error................\n",
      "Transaction Completed: 50 rows added ; 1 rows error\n",
      "Transaction Completed: 51 rows added ; 0 rows error....................\n",
      "Transaction Completed: 51 rows added ; 0 rows error.............................\n",
      "Error requesting link during scraping HTTPSConnectionPool(host='www.kkbox.com', port=443): Max retries exceeded with url: //hk/en/song/b2aFMhx06CIQ1O5BdO5Bd0P4-index.html (Caused by SSLError(SSLEOFError(8, 'EOF occurred in violation of protocol (_ssl.c:1129)')))\n"
     ]
    },
    {
     "ename": "UnboundLocalError",
     "evalue": "local variable 'r' referenced before assignment",
     "output_type": "error",
     "traceback": [
      "\u001b[1;31m---------------------------------------------------------------------------\u001b[0m",
      "\u001b[1;31mUnboundLocalError\u001b[0m                         Traceback (most recent call last)",
      "\u001b[1;32m~\\AppData\\Local\\Temp/ipykernel_33352/1964659053.py\u001b[0m in \u001b[0;36m<module>\u001b[1;34m\u001b[0m\n\u001b[0;32m      4\u001b[0m \u001b[1;33m\u001b[0m\u001b[0m\n\u001b[0;32m      5\u001b[0m     \u001b[0mprint\u001b[0m\u001b[1;33m(\u001b[0m\u001b[1;34m'{} : Inserting {} by {}.....................'\u001b[0m\u001b[1;33m.\u001b[0m\u001b[0mformat\u001b[0m\u001b[1;33m(\u001b[0m\u001b[0mcount\u001b[0m \u001b[1;33m,\u001b[0m\u001b[0msong\u001b[0m\u001b[1;33m[\u001b[0m\u001b[1;34m'name'\u001b[0m\u001b[1;33m]\u001b[0m\u001b[1;33m,\u001b[0m \u001b[0msong\u001b[0m\u001b[1;33m[\u001b[0m\u001b[1;34m'artist'\u001b[0m\u001b[1;33m]\u001b[0m\u001b[1;33m)\u001b[0m\u001b[1;33m,\u001b[0m \u001b[0mend\u001b[0m\u001b[1;33m=\u001b[0m\u001b[1;34m'\\r'\u001b[0m\u001b[1;33m)\u001b[0m\u001b[1;33m\u001b[0m\u001b[1;33m\u001b[0m\u001b[0m\n\u001b[1;32m----> 6\u001b[1;33m     \u001b[0minsertSong\u001b[0m\u001b[1;33m(\u001b[0m\u001b[1;34m'4'\u001b[0m\u001b[1;33m,\u001b[0m \u001b[0msong\u001b[0m\u001b[1;33m)\u001b[0m\u001b[1;33m\u001b[0m\u001b[1;33m\u001b[0m\u001b[0m\n\u001b[0m\u001b[0;32m      7\u001b[0m     \u001b[0mtime\u001b[0m\u001b[1;33m.\u001b[0m\u001b[0msleep\u001b[0m\u001b[1;33m(\u001b[0m\u001b[1;36m0.5\u001b[0m\u001b[1;33m)\u001b[0m\u001b[1;33m\u001b[0m\u001b[1;33m\u001b[0m\u001b[0m\n\u001b[0;32m      8\u001b[0m \u001b[1;33m\u001b[0m\u001b[0m\n",
      "\u001b[1;32m~\\AppData\\Local\\Temp/ipykernel_33352/3609565005.py\u001b[0m in \u001b[0;36minsertSong\u001b[1;34m(runId, song)\u001b[0m\n\u001b[0;32m     29\u001b[0m \u001b[1;32mdef\u001b[0m \u001b[0minsertSong\u001b[0m\u001b[1;33m(\u001b[0m\u001b[0mrunId\u001b[0m\u001b[1;33m,\u001b[0m \u001b[0msong\u001b[0m\u001b[1;33m)\u001b[0m\u001b[1;33m:\u001b[0m\u001b[1;33m\u001b[0m\u001b[1;33m\u001b[0m\u001b[0m\n\u001b[0;32m     30\u001b[0m     \u001b[0msongUrl\u001b[0m \u001b[1;33m=\u001b[0m \u001b[0mgetSongLinkFromKkbox\u001b[0m\u001b[1;33m(\u001b[0m\u001b[0msong\u001b[0m\u001b[1;33m)\u001b[0m\u001b[1;33m\u001b[0m\u001b[1;33m\u001b[0m\u001b[0m\n\u001b[1;32m---> 31\u001b[1;33m     \u001b[0mlyrics\u001b[0m \u001b[1;33m=\u001b[0m \u001b[0mgetLyrics\u001b[0m\u001b[1;33m(\u001b[0m\u001b[0msongUrl\u001b[0m\u001b[1;33m)\u001b[0m\u001b[1;33m\u001b[0m\u001b[1;33m\u001b[0m\u001b[0m\n\u001b[0m\u001b[0;32m     32\u001b[0m     \u001b[1;32mif\u001b[0m \u001b[0mlyrics\u001b[0m \u001b[1;33m==\u001b[0m \u001b[1;32mNone\u001b[0m\u001b[1;33m:\u001b[0m\u001b[1;33m\u001b[0m\u001b[1;33m\u001b[0m\u001b[0m\n\u001b[0;32m     33\u001b[0m         \u001b[1;32mreturn\u001b[0m \u001b[1;32mFalse\u001b[0m\u001b[1;33m\u001b[0m\u001b[1;33m\u001b[0m\u001b[0m\n",
      "\u001b[1;32m~\\AppData\\Local\\Temp/ipykernel_33352/3808235013.py\u001b[0m in \u001b[0;36mgetLyrics\u001b[1;34m(link)\u001b[0m\n\u001b[0;32m     91\u001b[0m         \u001b[1;32mreturn\u001b[0m \u001b[1;32mNone\u001b[0m\u001b[1;33m\u001b[0m\u001b[1;33m\u001b[0m\u001b[0m\n\u001b[0;32m     92\u001b[0m     \u001b[1;32mif\u001b[0m \u001b[1;34m'kkbox'\u001b[0m \u001b[1;32min\u001b[0m \u001b[0mlink\u001b[0m\u001b[1;33m:\u001b[0m\u001b[1;33m\u001b[0m\u001b[1;33m\u001b[0m\u001b[0m\n\u001b[1;32m---> 93\u001b[1;33m         \u001b[0mresults\u001b[0m \u001b[1;33m=\u001b[0m \u001b[0mscrapeKkboxLink\u001b[0m\u001b[1;33m(\u001b[0m\u001b[0mlink\u001b[0m\u001b[1;33m)\u001b[0m\u001b[1;33m\u001b[0m\u001b[1;33m\u001b[0m\u001b[0m\n\u001b[0m\u001b[0;32m     94\u001b[0m         \u001b[1;32mif\u001b[0m \u001b[0mlen\u001b[0m\u001b[1;33m(\u001b[0m\u001b[0mresults\u001b[0m\u001b[1;33m.\u001b[0m\u001b[0mreplace\u001b[0m\u001b[1;33m(\u001b[0m\u001b[1;34m'\\n'\u001b[0m\u001b[1;33m,\u001b[0m\u001b[1;34m''\u001b[0m\u001b[1;33m)\u001b[0m\u001b[1;33m)\u001b[0m \u001b[1;33m<\u001b[0m \u001b[1;36m100\u001b[0m\u001b[1;33m:\u001b[0m\u001b[1;33m\u001b[0m\u001b[1;33m\u001b[0m\u001b[0m\n\u001b[0;32m     95\u001b[0m             \u001b[1;32mreturn\u001b[0m \u001b[1;32mNone\u001b[0m\u001b[1;33m\u001b[0m\u001b[1;33m\u001b[0m\u001b[0m\n",
      "\u001b[1;32m~\\AppData\\Local\\Temp/ipykernel_33352/3808235013.py\u001b[0m in \u001b[0;36mscrapeKkboxLink\u001b[1;34m(link)\u001b[0m\n\u001b[0;32m     64\u001b[0m         \u001b[0mprint\u001b[0m\u001b[1;33m(\u001b[0m\u001b[1;34m'Error requesting link during scraping {}'\u001b[0m\u001b[1;33m.\u001b[0m\u001b[0mformat\u001b[0m\u001b[1;33m(\u001b[0m\u001b[0me\u001b[0m\u001b[1;33m)\u001b[0m\u001b[1;33m)\u001b[0m\u001b[1;33m\u001b[0m\u001b[1;33m\u001b[0m\u001b[0m\n\u001b[0;32m     65\u001b[0m \u001b[1;33m\u001b[0m\u001b[0m\n\u001b[1;32m---> 66\u001b[1;33m     \u001b[0msoup\u001b[0m \u001b[1;33m=\u001b[0m \u001b[0mBeautifulSoup\u001b[0m\u001b[1;33m(\u001b[0m\u001b[0mr\u001b[0m\u001b[1;33m.\u001b[0m\u001b[0mcontent\u001b[0m\u001b[1;33m,\u001b[0m \u001b[1;34m'html5lib'\u001b[0m\u001b[1;33m)\u001b[0m\u001b[1;33m\u001b[0m\u001b[1;33m\u001b[0m\u001b[0m\n\u001b[0m\u001b[0;32m     67\u001b[0m     \u001b[0mlyrics\u001b[0m \u001b[1;33m=\u001b[0m \u001b[0mreplaceKeywords\u001b[0m\u001b[1;33m(\u001b[0m\u001b[0mstr\u001b[0m\u001b[1;33m(\u001b[0m\u001b[0msoup\u001b[0m\u001b[1;33m.\u001b[0m\u001b[0mfind\u001b[0m\u001b[1;33m(\u001b[0m\u001b[1;34m'div'\u001b[0m\u001b[1;33m,\u001b[0m \u001b[0mattrs\u001b[0m \u001b[1;33m=\u001b[0m \u001b[1;33m{\u001b[0m\u001b[1;34m'class'\u001b[0m\u001b[1;33m:\u001b[0m\u001b[1;34m'lyrics'\u001b[0m\u001b[1;33m}\u001b[0m\u001b[1;33m)\u001b[0m\u001b[1;33m)\u001b[0m\u001b[1;33m)\u001b[0m\u001b[1;33m\u001b[0m\u001b[1;33m\u001b[0m\u001b[0m\n\u001b[0;32m     68\u001b[0m     \u001b[0mlyrics\u001b[0m \u001b[1;33m=\u001b[0m \u001b[0mlyrics\u001b[0m\u001b[1;33m.\u001b[0m\u001b[0msplit\u001b[0m\u001b[1;33m(\u001b[0m\u001b[1;34m'\\n'\u001b[0m\u001b[1;33m)\u001b[0m\u001b[1;33m\u001b[0m\u001b[1;33m\u001b[0m\u001b[0m\n",
      "\u001b[1;31mUnboundLocalError\u001b[0m: local variable 'r' referenced before assignment"
     ]
    }
   ],
   "source": [
    "sql_statements = []\n",
    "\n",
    "for count, song in enumerate(song_list):\n",
    "\n",
    "    print('{} : Inserting {} by {}.....................'.format(count ,song['name'], song['artist']), end='\\r')\n",
    "    insertSong('4', song)\n",
    "    time.sleep(0.5)\n",
    "\n",
    "pushTransaction()\n",
    "        \n",
    "    "
   ]
  },
  {
   "cell_type": "code",
   "execution_count": 33,
   "id": "eabf2bcd",
   "metadata": {},
   "outputs": [
    {
     "name": "stdout",
     "output_type": "stream",
     "text": [
      "2569\n"
     ]
    }
   ],
   "source": [
    "index = 0\n",
    "\n",
    "for s in song_list:\n",
    "    if '請你不企近黃線' in s:\n",
    "        break\n",
    "    else:\n",
    "        index+=1\n",
    "\n",
    "print(index)"
   ]
  },
  {
   "cell_type": "code",
   "execution_count": null,
   "id": "deafaa33",
   "metadata": {},
   "outputs": [],
   "source": []
  },
  {
   "cell_type": "code",
   "execution_count": null,
   "id": "e828d4ba",
   "metadata": {},
   "outputs": [],
   "source": []
  }
 ],
 "metadata": {
  "celltoolbar": "Raw Cell Format",
  "kernelspec": {
   "display_name": "Python 3 (ipykernel)",
   "language": "python",
   "name": "python3"
  },
  "language_info": {
   "codemirror_mode": {
    "name": "ipython",
    "version": 3
   },
   "file_extension": ".py",
   "mimetype": "text/x-python",
   "name": "python",
   "nbconvert_exporter": "python",
   "pygments_lexer": "ipython3",
   "version": "3.9.6"
  }
 },
 "nbformat": 4,
 "nbformat_minor": 5
}
